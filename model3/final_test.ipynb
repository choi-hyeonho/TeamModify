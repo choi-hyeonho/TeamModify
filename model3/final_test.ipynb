{
 "cells": [
  {
   "cell_type": "code",
   "execution_count": 1,
   "metadata": {},
   "outputs": [],
   "source": [
    "import joblib\n",
    "import os\n",
    "import numpy as np\n",
    "import pandas as pd\n",
    "from sklearn.metrics import classification_report\n",
    "\n",
    "# 모델 로드\n",
    "current_directory = os.getcwd()\n",
    "model_path1 = os.path.join(current_directory, 'steelplate_model1.pkl')\n",
    "model1 = joblib.load(model_path1)\n",
    "\n",
    "model_path2 = os.path.join(current_directory, 'steelplate_model2.pkl')\n",
    "model2 = joblib.load(model_path2)\n",
    "\n",
    "model_path3 = os.path.join(current_directory, 'steelplate_model3.pkl')\n",
    "model3 = joblib.load(model_path3)"
   ]
  },
  {
   "cell_type": "markdown",
   "metadata": {},
   "source": [
    "#  Load val, test set "
   ]
  },
  {
   "cell_type": "code",
   "execution_count": 2,
   "metadata": {},
   "outputs": [],
   "source": [
    "x_val = pd.read_csv('val_test_set/x_val.csv')\n",
    "x_test = pd.read_csv('val_test_set/x_test.csv')\n",
    "y_val = pd.read_csv('val_test_set/y_val.csv')\n",
    "y_test = pd.read_csv('val_test_set/y_test.csv')"
   ]
  },
  {
   "cell_type": "code",
   "execution_count": 3,
   "metadata": {},
   "outputs": [
    {
     "name": "stdout",
     "output_type": "stream",
     "text": [
      "(311, 14) (311, 1)\n",
      "(389, 14) (389, 1)\n"
     ]
    }
   ],
   "source": [
    "print(x_val.shape, y_val.shape)\n",
    "print(x_test.shape, y_test.shape)"
   ]
  },
  {
   "cell_type": "markdown",
   "metadata": {},
   "source": [
    "# 성능 확인을 위한 함수 구현"
   ]
  },
  {
   "cell_type": "code",
   "execution_count": 5,
   "metadata": {},
   "outputs": [],
   "source": [
    "def model_score(x, y) :\n",
    "\n",
    "    # 1차 예측\n",
    "    pred1 = model1.predict(x)\n",
    "\n",
    "    # 1차 예측 결과 정리\n",
    "    result = pd.concat([pd.DataFrame(pred1, columns=['Pred'])], axis=1)\n",
    "    result = result.set_index(x.index)  \n",
    "    result\n",
    "\n",
    "\n",
    "    # 2차 예측을 위한 데이터 정리\n",
    "    x['Pred'] = result['Pred'] # x set과 결과값 합치기\n",
    "    selected_rows = x[(x['Pred'] == 0) | (x['Pred'] == 5) | (x['Pred'] == 6)] # 예측값이 5와 6인 데이터 추출\n",
    "    selected_rows.drop(['Pred', 'Empty_Index'], axis=1, inplace=True) # 필요없는 컬럼 삭제\n",
    "\n",
    "    # 2차 예측\n",
    "    pred2 = model2.predict(selected_rows)\n",
    "\n",
    "    # 2차 예측 결과 정리\n",
    "    for idx, pred in zip(selected_rows.index, pred2) :\n",
    "        if pred == 0 :\n",
    "            result.loc[idx, 'Pred'] = pred\n",
    "        else : # 2차 model이 5 또는 6이라고 판별한 경우\n",
    "            result.loc[idx, 'Pred'] = 56\n",
    "    \n",
    "    # 3차 예측을 위한 데이터 정리\n",
    "    x['Pred'] = result['Pred'] # x set과 결과값 합치기\n",
    "    selected_rows2 = x[(x['Pred'] == 56)] # 2차 모델이 5 또는 6이라고 예측한 데이터 추출\n",
    "    selected_rows2.drop(['Pred', 'Empty_Index'], axis=1, inplace=True) # 필요없는 컬럼 삭제\n",
    "\n",
    "    # 3차 예측|\n",
    "    pred3 = model3.predict(selected_rows2)\n",
    "\n",
    "    # 3차 예측 결과 정리\n",
    "    for idx, pred in zip(selected_rows2.index, pred3) :\n",
    "        result.loc[idx, 'Pred'] = pred\n",
    "\n",
    "    # classification_report \n",
    "    report_final = classification_report(y, result['Pred'])\n",
    "\n",
    "    return report_final"
   ]
  },
  {
   "cell_type": "markdown",
   "metadata": {},
   "source": [
    "# Classification Report를 통한 성능 확인"
   ]
  },
  {
   "cell_type": "code",
   "execution_count": 6,
   "metadata": {},
   "outputs": [
    {
     "name": "stdout",
     "output_type": "stream",
     "text": [
      "              precision    recall  f1-score   support\n",
      "\n",
      "           0       0.96      0.93      0.95        28\n",
      "           1       0.91      0.91      0.91        22\n",
      "           2       1.00      0.95      0.97        58\n",
      "           3       1.00      1.00      1.00        12\n",
      "           4       1.00      0.88      0.93         8\n",
      "           5       0.88      0.93      0.90        75\n",
      "           6       0.91      0.91      0.91       108\n",
      "\n",
      "    accuracy                           0.93       311\n",
      "   macro avg       0.95      0.93      0.94       311\n",
      "weighted avg       0.93      0.93      0.93       311\n",
      "\n"
     ]
    },
    {
     "name": "stderr",
     "output_type": "stream",
     "text": [
      "C:\\Users\\PSY\\AppData\\Local\\Temp\\ipykernel_22024\\2244515345.py:15: SettingWithCopyWarning: \n",
      "A value is trying to be set on a copy of a slice from a DataFrame\n",
      "\n",
      "See the caveats in the documentation: https://pandas.pydata.org/pandas-docs/stable/user_guide/indexing.html#returning-a-view-versus-a-copy\n",
      "  selected_rows.drop(['Pred', 'Empty_Index'], axis=1, inplace=True) # 필요없는 컬럼 삭제\n",
      "C:\\Users\\PSY\\AppData\\Local\\Temp\\ipykernel_22024\\2244515345.py:30: SettingWithCopyWarning: \n",
      "A value is trying to be set on a copy of a slice from a DataFrame\n",
      "\n",
      "See the caveats in the documentation: https://pandas.pydata.org/pandas-docs/stable/user_guide/indexing.html#returning-a-view-versus-a-copy\n",
      "  selected_rows2.drop(['Pred', 'Empty_Index'], axis=1, inplace=True) # 필요없는 컬럼 삭제\n"
     ]
    }
   ],
   "source": [
    "print(model_score(x_val, y_val))"
   ]
  },
  {
   "cell_type": "code",
   "execution_count": 7,
   "metadata": {},
   "outputs": [
    {
     "name": "stdout",
     "output_type": "stream",
     "text": [
      "              precision    recall  f1-score   support\n",
      "\n",
      "           0       0.88      0.78      0.82        27\n",
      "           1       0.92      0.96      0.94        46\n",
      "           2       0.96      0.97      0.96        89\n",
      "           3       0.92      1.00      0.96        11\n",
      "           4       1.00      0.82      0.90        11\n",
      "           5       0.87      0.88      0.87        81\n",
      "           6       0.86      0.86      0.86       124\n",
      "\n",
      "    accuracy                           0.90       389\n",
      "   macro avg       0.91      0.89      0.90       389\n",
      "weighted avg       0.90      0.90      0.90       389\n",
      "\n"
     ]
    },
    {
     "name": "stderr",
     "output_type": "stream",
     "text": [
      "C:\\Users\\PSY\\AppData\\Local\\Temp\\ipykernel_22024\\2244515345.py:15: SettingWithCopyWarning: \n",
      "A value is trying to be set on a copy of a slice from a DataFrame\n",
      "\n",
      "See the caveats in the documentation: https://pandas.pydata.org/pandas-docs/stable/user_guide/indexing.html#returning-a-view-versus-a-copy\n",
      "  selected_rows.drop(['Pred', 'Empty_Index'], axis=1, inplace=True) # 필요없는 컬럼 삭제\n",
      "C:\\Users\\PSY\\AppData\\Local\\Temp\\ipykernel_22024\\2244515345.py:30: SettingWithCopyWarning: \n",
      "A value is trying to be set on a copy of a slice from a DataFrame\n",
      "\n",
      "See the caveats in the documentation: https://pandas.pydata.org/pandas-docs/stable/user_guide/indexing.html#returning-a-view-versus-a-copy\n",
      "  selected_rows2.drop(['Pred', 'Empty_Index'], axis=1, inplace=True) # 필요없는 컬럼 삭제\n"
     ]
    }
   ],
   "source": [
    "print(model_score(x_test, y_test))"
   ]
  },
  {
   "cell_type": "code",
   "execution_count": null,
   "metadata": {},
   "outputs": [],
   "source": []
  }
 ],
 "metadata": {
  "kernelspec": {
   "display_name": "teamproject1",
   "language": "python",
   "name": "python3"
  },
  "language_info": {
   "codemirror_mode": {
    "name": "ipython",
    "version": 3
   },
   "file_extension": ".py",
   "mimetype": "text/x-python",
   "name": "python",
   "nbconvert_exporter": "python",
   "pygments_lexer": "ipython3",
   "version": "3.8.17"
  },
  "orig_nbformat": 4
 },
 "nbformat": 4,
 "nbformat_minor": 2
}
